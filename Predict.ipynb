{
 "cells": [
  {
   "cell_type": "code",
   "execution_count": null,
   "metadata": {
    "scrolled": true
   },
   "outputs": [],
   "source": [
    "import numpy as np\n",
    "from keras.models import model_from_json\n",
    "import sys,os\n",
    "import cv2\n",
    "import operator"
   ]
  },
  {
   "cell_type": "code",
   "execution_count": null,
   "metadata": {
    "scrolled": true
   },
   "outputs": [],
   "source": [
    "#loading the saved data\n",
    "json_file=open(\"NetworkModel-w.json\",\"r\")\n",
    "model_json=json_file.read()\n",
    "json_file.close()\n",
    "\n",
    "net_model=model_from_json(model_json)\n",
    "\n",
    "net_model.load_weights(\"NetworkModel-w.h5\")\n",
    "print(\"The network model is loaded\")"
   ]
  },
  {
   "cell_type": "code",
   "execution_count": null,
   "metadata": {},
   "outputs": [],
   "source": [
    "cap = cv2.VideoCapture(0)\n",
    "\n",
    "categories={0:'Zero',\n",
    "            1:'One',\n",
    "            2:'Two',\n",
    "            3:'Three',\n",
    "            4:'Four',\n",
    "            5:'Five'}\n",
    "\n",
    "while True:\n",
    "    _,frame=cap.read()\n",
    "    \n",
    "    #mirror image\n",
    "    frame=cv2.flip(frame,1)\n",
    "    \n",
    "    #getting region of interest\n",
    "    x1=int(0.5*frame.shape[1])\n",
    "    y1=10\n",
    "    x2=frame.shape[1]-10\n",
    "    y2=int(0.5*frame.shape[1])\n",
    "    \n",
    "    #displaying rectangle\n",
    "    cv2.rectangle(frame,(x1-1,y1-1),(x2+1,y2+1),(255,0,0),1)\n",
    "    \n",
    "    #extracting roi\n",
    "    roi=frame[y1:y2,x1:x2]\n",
    "    \n",
    "    #reshaping roi\n",
    "    \n",
    "    roi=cv2.resize(roi,(64,64))\n",
    "    roi=cv2.cvtColor(roi,cv2.COLOR_BGR2GRAY)\n",
    "    _,img=cv2.threshold(roi,120,255,cv2.THRESH_BINARY)\n",
    "    \n",
    "    cv2.imshow('Testing',img)\n",
    "    cv2.imshow(\"frame\",frame)\n",
    "    \n",
    "    #predicting and storing result\n",
    "    res=net_model.predict(img.reshape(1,64,64,1))\n",
    "    prediction_values={ 'Zero':res[0][0],\n",
    "                        'One':res[0][1],\n",
    "                        'Two':res[0][2],\n",
    "                        'Three':res[0][3],\n",
    "                        'Four':res[0][4],\n",
    "                        'Five':res[0][5],}\n",
    "    prediction_values=sorted(prediction_values.items(),key=operator.itemgetter(1),reverse=True)\n",
    "    \n",
    "    #display result\n",
    "    cv2.putText(frame,prediction_values[0][0],(10,120),cv2.FONT_HERSHEY_PLAIN,1,(255,0,0),1)\n",
    "    cv2.imshow(\"frame\",frame)\n",
    "    \n",
    "    \n",
    "    interrupt = cv2.waitKey(10)\n",
    "    if interrupt & 0xFF == 27: # esc key\n",
    "        break\n",
    "        \n",
    " \n",
    "cap.release()\n",
    "cv2.destroyAllWindows()\n",
    "    \n",
    "    \n",
    "    \n",
    "    "
   ]
  }
 ],
 "metadata": {
  "kernelspec": {
   "display_name": "Python 3",
   "language": "python",
   "name": "python3"
  },
  "language_info": {
   "codemirror_mode": {
    "name": "ipython",
    "version": 3
   },
   "file_extension": ".py",
   "mimetype": "text/x-python",
   "name": "python",
   "nbconvert_exporter": "python",
   "pygments_lexer": "ipython3",
   "version": "3.7.4"
  }
 },
 "nbformat": 4,
 "nbformat_minor": 2
}
